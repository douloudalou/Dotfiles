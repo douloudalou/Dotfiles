{
 "cells": [
  {
   "attachments": {
    "IIT_original.png": {
     "image/png": "[encoded data removed]"
    }
   },
   "cell_type": "markdown",
   "metadata": {
    "slideshow": {
     "slide_type": "slide"
    }
   },
   "source": [
    "![IIT_original.png](attachment:IIT_original.png)\n",
    "## <center>  Computation Thinking (CIT1C18)</center>\n",
    "### <center>  Tkinter </center>\n",
    "# <center> <font color=blue>For instructor only </center>"
   ]
  },
  {
   "cell_type": "markdown",
   "metadata": {
    "slideshow": {
     "slide_type": "slide"
    }
   },
   "source": [
    "## <center>  Objective</center>\n",
    "\n",
    "<ul> \n",
    "    <li>Understand graphic user interface(GUI) elements </li>   \n",
    "    <li>Demonstrate the use of Tkinter library to create GUI</li>    \n",
    "</ul>"
   ]
  },
  {
   "cell_type": "markdown",
   "metadata": {
    "slideshow": {
     "slide_type": "slide"
    }
   },
   "source": [
    "## Tkinter\n",
    "\n",
    "Tkinter is a GUI frameworks that is build into python standard library.\n",
    "- It is cross platform\n",
    "- Lightweight and easy to use\n",
    "\n"
   ]
  },
  {
   "cell_type": "markdown",
   "metadata": {
    "slideshow": {
     "slide_type": "slide"
    }
   },
   "source": [
    "## GUI Recap\n",
    "\n",
    "In last lab we have went through the following in tkinter\n",
    "- Window\n",
    "- Frame (Container to other widget)\n",
    "- Widget(Label, Entry, button)\n",
    "- Events\n",
    "- Gui Manager (Layout)\n",
    "\n",
    "Let do some recap and practice "
   ]
  },
  {
   "cell_type": "markdown",
   "metadata": {
    "slideshow": {
     "slide_type": "slide"
    }
   },
   "source": [
    "## Gui window"
   ]
  },
  {
   "cell_type": "code",
   "execution_count": 15,
   "metadata": {
    "slideshow": {
     "slide_type": "slide"
    }
   },
   "outputs": [],
   "source": [
    "# import tkinter as library\n",
    "import tkinter\n",
    "\n",
    "# create window Tk() is the constructor to create the window function\n",
    "window = tkinter.Tk()\n",
    "\n",
    "# window mainloop have to be called once at the end\n",
    "# main loop process event\n",
    "window.mainloop()"
   ]
  },
  {
   "cell_type": "markdown",
   "metadata": {
    "slideshow": {
     "slide_type": "slide"
    }
   },
   "source": [
    "## Gui Element\n",
    "- label - Widget to display text on the screen"
   ]
  },
  {
   "cell_type": "code",
   "execution_count": 16,
   "metadata": {
    "slideshow": {
     "slide_type": "slide"
    }
   },
   "outputs": [],
   "source": [
    "# import tkinter as library, tk is variable name storing the tkinter library\n",
    "import tkinter as tk\n",
    "\n",
    "# create window Tk() is create the window function\n",
    "window = tk.Tk()\n",
    "\n",
    "# create label\n",
    "label = tk.Label(text=\"Hello world\")\n",
    "# pack will put the widgets into window, try run your code with or without pack\n",
    "label.pack()\n",
    "\n",
    "# window mainloop have to be called once at the end\n",
    "# main loop process event\n",
    "window.mainloop()"
   ]
  },
  {
   "cell_type": "markdown",
   "metadata": {
    "slideshow": {
     "slide_type": "slide"
    }
   },
   "source": [
    "<font color=\"red\">Exercise 1:</font>\n",
    "\n",
    "Look at the API library for label\n",
    "- https://tkdocs.com/pyref/label.html\n",
    "\n",
    "Create the game title for your game, you may want to customize how your game title look."
   ]
  },
  {
   "cell_type": "code",
   "execution_count": 1,
   "metadata": {
    "slideshow": {
     "slide_type": "slide"
    }
   },
   "outputs": [],
   "source": [
    "# import tkinter as library\n",
    "import tkinter as tk\n",
    "\n",
    "# Tk() is the create window function \n",
    "window = tk.Tk()\n",
    "\n",
    "# create game title\n",
    "label = tk.Label(\n",
    "    text=\"A RPG Game\",\n",
    "    font = (\"Calibri\",50), # Change the font size\n",
    "    foreground=\"white\",  # Set the text color to white\n",
    "    background=\"black\"  # Set the background color to black\n",
    ")\n",
    "# pack will put the widgets into window\n",
    "label.pack()\n",
    "\n",
    "# window mainloop have to be called once at the end\n",
    "# main loop process event\n",
    "window.mainloop()"
   ]
  },
  {
   "cell_type": "markdown",
   "metadata": {
    "slideshow": {
     "slide_type": "slide"
    }
   },
   "source": [
    "## Creating Logo\n",
    "\n",
    "Let's create a logo for your game.\n",
    "\n",
    "In Tkinter, a label can also be used to display an image.\n",
    "\n",
    "Let's look at the next example."
   ]
  },
  {
   "cell_type": "code",
   "execution_count": 2,
   "metadata": {
    "slideshow": {
     "slide_type": "slide"
    }
   },
   "outputs": [],
   "source": [
    "# import tkinter as library\n",
    "import tkinter as tk\n",
    "\n",
    "root = tk.Tk()\n",
    "\n",
    "# Assuming \"castleSmall.png\" is in the same directory as your Python script\n",
    "# create a photo image for tkinter\n",
    "photo = tk.PhotoImage(file=\"castleSmall.png\")\n",
    "\n",
    "# put the photo image into the label\n",
    "label = tk.Label(root, image=photo)\n",
    "label.pack()\n",
    "\n",
    "root.mainloop()"
   ]
  },
  {
   "cell_type": "markdown",
   "metadata": {
    "slideshow": {
     "slide_type": "slide"
    }
   },
   "source": [
    "## The PhotoImage library\n",
    "\n",
    "- Supports GIF, PGM, PPM, and PNG.\n",
    "- Does not support JPEG or BMP\n",
    "- To use JPEG or BMP images, you need to install the Python Imaging Library (PIL), which is now known as Pillow.\n",
    "\n",
    "Next example showcase the use of Pillow library"
   ]
  },
  {
   "cell_type": "code",
   "execution_count": 2,
   "metadata": {},
   "outputs": [],
   "source": [
    "# import tkinter as library\n",
    "import tkinter as tk\n",
    "\n",
    "# Add Pillow import at the beginning of your code for adding image\n",
    "from PIL import Image, ImageTk\n",
    "\n",
    "window = tk.Tk()\n",
    "\n",
    "# Use Pillow (PIL) to open and convert image formats\n",
    "image = Image.open(\"../smt/1.png\")\n",
    "#resize the image\n",
    "image = image.resize((150, 150))\n",
    "#put converted image format into PhotoImage so that it can be read by tkinter\n",
    "Logo_photo = ImageTk.PhotoImage(image)\n",
    "\n",
    "#put the image logo into image label\n",
    "image_label = tk.Label(image=Logo_photo)\n",
    "\n",
    "# pack will put the widgets into window\n",
    "image_label.pack()\n",
    "\n",
    "# window mainloop have to be called once at the end\n",
    "# main loop process event\n",
    "window.mainloop()"
   ]
  },
  {
   "cell_type": "markdown",
   "metadata": {},
   "source": [
    "<font color=\"red\">Exercise 2:</font>\n",
    "\n",
    "Let create a logo for your game.\n",
    "\n",
    "Copy your code from exercise 1 and add on the logo."
   ]
  },
  {
   "cell_type": "code",
   "execution_count": 6,
   "metadata": {},
   "outputs": [],
   "source": [
    "# import tkinter as library\n",
    "import tkinter as tk\n",
    "\n",
    "# Add Pillow import at the beginning of your code for adding image\n",
    "from PIL import Image, ImageTk\n",
    "\n",
    "window = tk.Tk()\n",
    "\n",
    "# Use Pillow (PIL) to open and convert image formats\n",
    "image = Image.open(\"../smt/1.png\")\n",
    "#resize the image\n",
    "image = image.resize((150, 150))\n",
    "#put converted image format into PhotoImage so that it can be read by tkinter\n",
    "Logo_photo = ImageTk.PhotoImage(image)\n",
    "\n",
    "#put the image logo into image label\n",
    "image_label = tk.Label(image=Logo_photo)\n",
    "\n",
    "# pack will put the widgets into window\n",
    "image_label.pack()\n",
    "\n",
    "# create game title\n",
    "label = tk.Label(\n",
    "    text=\"A RPG Game\",\n",
    "    font = (\"Calibri\",50) # Change the font size\n",
    ")\n",
    "# pack will put the widgets into window\n",
    "label.pack()\n",
    "\n",
    "# window mainloop have to be called once at the end\n",
    "# main loop process event\n",
    "window.mainloop()"
   ]
  },
  {
   "cell_type": "markdown",
   "metadata": {
    "slideshow": {
     "slide_type": "slide"
    }
   },
   "source": [
    "## Gui Element\n",
    "- Button - contain text and perform action when clicked\n",
    "\n",
    "https://tkdocs.com/pyref/ttk_button.html"
   ]
  },
  {
   "cell_type": "code",
   "execution_count": 13,
   "metadata": {
    "slideshow": {
     "slide_type": "slide"
    }
   },
   "outputs": [],
   "source": [
    "# import tkinter as library\n",
    "import tkinter as tk\n",
    "\n",
    "window = tk.Tk()\n",
    "\n",
    "#create a button with different parameter\n",
    "button = tk.Button(\n",
    "    text=\"Button\",\n",
    "    bg=\"green\",\n",
    "    fg=\"white\"\n",
    ")\n",
    "button.pack()\n",
    "\n",
    "# window mainloop have to be called once at the end\n",
    "# main loop process event\n",
    "window.mainloop()"
   ]
  },
  {
   "cell_type": "markdown",
   "metadata": {
    "slideshow": {
     "slide_type": "slide"
    }
   },
   "source": [
    "<font color=\"red\">Exercise 3:</font>\n",
    "\n",
    "Let us create a start game button\n",
    "\n",
    "Copy your code from exercise 2 and add the start game button."
   ]
  },
  {
   "cell_type": "code",
   "execution_count": 5,
   "metadata": {
    "slideshow": {
     "slide_type": "slide"
    }
   },
   "outputs": [],
   "source": [
    "# import tkinter as library\n",
    "import tkinter as tk\n",
    "\n",
    "# Add Pillow import at the beginning of your code for adding image\n",
    "from PIL import Image, ImageTk\n",
    "\n",
    "# create the window\n",
    "window = tk.Tk()\n",
    "\n",
    "# Use Pillow (PIL) to open and convert image formats\n",
    "image = Image.open(\"castleSmallAlt.bmp\")\n",
    "#resize the image\n",
    "image = image.resize((150, 150))\n",
    "#put converted image format into PhotoImage so that it can be read by tkinter\n",
    "Logo_photo = ImageTk.PhotoImage(image)\n",
    "\n",
    "#put the image logo into image label\n",
    "image_label = tk.Label(image=Logo_photo)\n",
    "\n",
    "# pack will put the widgets into window\n",
    "image_label.pack()\n",
    "\n",
    "# create game title\n",
    "label = tk.Label(\n",
    "    text=\"A RPG Game\",\n",
    "    font = (\"Calibri\",50) # Change the font size\n",
    ")\n",
    "# pack will put the widgets into window\n",
    "label.pack()\n",
    "\n",
    "#create a button for start game\n",
    "button = tk.Button(\n",
    "    text=\"Start Game\",\n",
    "    font = (\"Calibri\",30) # Change the font size\n",
    ")\n",
    "button.pack()\n",
    "\n",
    "# window mainloop have to be called once at the end\n",
    "# main loop process event\n",
    "window.mainloop()"
   ]
  },
  {
   "cell_type": "markdown",
   "metadata": {
    "slideshow": {
     "slide_type": "slide"
    }
   },
   "source": [
    "Next, create the second screen for your game.\n",
    "\n",
    "For each screen, we are going to use a frame as container.\n",
    "\n",
    "Below is the code sample for creating a simple frame storing a button."
   ]
  },
  {
   "cell_type": "code",
   "execution_count": 7,
   "metadata": {
    "slideshow": {
     "slide_type": "slide"
    }
   },
   "outputs": [],
   "source": [
    "# Creating a frame that contains button\n",
    "import tkinter as tk\n",
    "\n",
    "window = tk.Tk()\n",
    "\n",
    "#create  frame\n",
    "frame= tk.Frame()\n",
    " \n",
    "# put the button into frame by setting the master variable as frame\n",
    "button = tk.Button(master=frame, text=\"Button in frame\")\n",
    "button.pack()\n",
    "\n",
    "frame.pack()\n",
    "\n",
    "window.mainloop()"
   ]
  },
  {
   "cell_type": "markdown",
   "metadata": {
    "slideshow": {
     "slide_type": "slide"
    }
   },
   "source": [
    "## Linking two screens together\n",
    "\n",
    "- To create a multi-screen experience, we will use frames as containers for each screen.\n",
    "\n",
    "- Switching between screens can be achieved by hiding one screen(frame) and showing the other screen(frame).\n",
    "\n",
    "- Code Sample for Switching Between 2 Frames:"
   ]
  },
  {
   "cell_type": "code",
   "execution_count": 8,
   "metadata": {
    "slideshow": {
     "slide_type": "slide"
    }
   },
   "outputs": [],
   "source": [
    "import tkinter as tk\n",
    "\n",
    "# this function take in a frame and raise it to the front \n",
    "def show_frame(frame):\n",
    "    frame.tkraise()\n",
    "\n",
    "root = tk.Tk()\n",
    "\n",
    "# creating frame 1\n",
    "frame1 = tk.Frame(root)\n",
    "# place the frame in col 0 and row 0\n",
    "frame1.grid(row=0, column=0)\n",
    "\n",
    "# creating frame 2\n",
    "frame2 = tk.Frame(root)\n",
    "# place the frame in col 0 and row 0, notice both are in same grid position\n",
    "frame2.grid(row=0, column=0)\n",
    "\n",
    "# add button 1 in frame 1 \n",
    "# pressing this button will call show_frame function which pops up frame2\n",
    "button1 = tk.Button(frame1, text='Go to frame 2', command=lambda: show_frame(frame2))\n",
    "button1.pack(padx=100, pady=100)\n",
    "\n",
    "# add button 2 in frame 2\n",
    "#pressing this button will call show_frame function which pops up frame1\n",
    "button2 = tk.Button(frame2, text='Go to frame 1', command=lambda: show_frame(frame1))\n",
    "button2.pack(padx=100, pady=100)\n",
    "\n",
    "show_frame(frame1)  # show frame 1 by default\n",
    "\n",
    "root.mainloop()"
   ]
  },
  {
   "cell_type": "markdown",
   "metadata": {
    "slideshow": {
     "slide_type": "slide"
    }
   },
   "source": [
    "## Removing a frame from layout manager\n",
    "\n",
    "You can also choose to switch screen via removing a frame from the layout\n",
    "\n",
    "Below is the code example."
   ]
  },
  {
   "cell_type": "code",
   "execution_count": 8,
   "metadata": {},
   "outputs": [],
   "source": [
    "import tkinter as tk\n",
    "\n",
    "# this function take in 2 frames, it will hide one and show one\n",
    "def switch_frame(show_frame, hide_frame):\n",
    "    show_frame.grid(row=0, column=0)\n",
    "    hide_frame.grid_forget()\n",
    "    \n",
    "# Add wrapper functions for the buttons\n",
    "def go_frame_2():\n",
    "    switch_frame(frame2, frame1)\n",
    "\n",
    "def go_frame_1():\n",
    "    switch_frame(frame1, frame2)       \n",
    "\n",
    "root = tk.Tk()\n",
    "\n",
    "# creating frame 1\n",
    "frame1 = tk.Frame(root)\n",
    "# place the frame in col 0 and row 0\n",
    "frame1.grid(row=0, column=0)\n",
    "\n",
    "# creating frame 2\n",
    "frame2 = tk.Frame(root)\n",
    "# We hide the second frame, do not place in grid\n",
    "#frame2.grid(row=0, column=0)\n",
    "\n",
    "\n",
    "# add button 1 in frame 1 \n",
    "# pressing this button will call switch_frame function which switch the frames\n",
    "#button1 = tk.Button(frame1, text='Go to frame 2', command=lambda: switch_frame(frame2, frame1))\n",
    "\n",
    "# pressing this button will call wrapper function go_frame_2 to switch\n",
    "button1 = tk.Button(frame1, text='Go to frame 2', command=go_frame_2)\n",
    "button1.pack(padx=100, pady=100)\n",
    "\n",
    "# add button 2 in frame 2 \n",
    "# pressing this button will call switch_frame function which switch the frames\n",
    "button2 = tk.Button(frame2, text='Go to frame 1', command=lambda: switch_frame(frame1, frame2))\n",
    "\n",
    "# pressing this button will call wrapper function go_frame_1 to switch\n",
    "#button1 = tk.Button(frame1, text='Go to frame 1', command=go_frame_1)\n",
    "\n",
    "button2.pack(padx=100, pady=100)\n",
    "\n",
    "root.mainloop()"
   ]
  },
  {
   "cell_type": "markdown",
   "metadata": {
    "slideshow": {
     "slide_type": "slide"
    }
   },
   "source": [
    "<font color=\"red\">Exercise 4:</font>\n",
    "\n",
    "Before we start creating the second screen, follow these steps:\n",
    "- Copy your code from exercise 3.\n",
    "- Move all your widgets in the first screen into a frame.\n",
    "- By doing that, once the first frame is hidden, all the widgets in that frame will also be hidden. "
   ]
  },
  {
   "cell_type": "code",
   "execution_count": 8,
   "metadata": {},
   "outputs": [],
   "source": [
    "# import tkinter as library\n",
    "import tkinter as tk\n",
    "\n",
    "# Add Pillow import at the beginning of your code for adding image\n",
    "from PIL import Image, ImageTk\n",
    "\n",
    "# create the window \n",
    "window = tk.Tk()\n",
    "\n",
    "# Create a frame at row 0 and column 0 for main menu\n",
    "main_frame = tk.Frame(\n",
    "        master=window)\n",
    "# frame position in row and column\n",
    "main_frame.grid(row=0, column=0, padx=5, pady=5)\n",
    "\n",
    "# Use Pillow (PIL) to open and convert image formats\n",
    "image = Image.open(\"castleSmallAlt.bmp\")\n",
    "#resize the image\n",
    "image = image.resize((150, 150))\n",
    "#put converted image format into PhotoImage so that it can be read by tkinter\n",
    "Logo_photo = ImageTk.PhotoImage(image)\n",
    "\n",
    "#put the image logo into image label\n",
    "image_label = tk.Label(master=main_frame, image=Logo_photo)\n",
    "\n",
    "# pack will put the widgets into window\n",
    "image_label.pack()\n",
    "\n",
    "# create game title, add it into the main_frame\n",
    "label = tk.Label(\n",
    "    master = main_frame,\n",
    "    text=\"A RPG Game\",\n",
    "    font = (\"Calibri\",50) # Change the font size\n",
    ")\n",
    "# pack will put the widgets into window\n",
    "label.pack()\n",
    "\n",
    "#create a button for start game, add it into the main_frame\n",
    "button = tk.Button(\n",
    "    master = main_frame,\n",
    "    text=\"Start Game\",\n",
    "    font = (\"Calibri\",30) # Change the font size\n",
    ")\n",
    "button.pack()\n",
    "\n",
    "# window mainloop have to be called once at the end\n",
    "# main loop process event\n",
    "window.mainloop()"
   ]
  },
  {
   "cell_type": "markdown",
   "metadata": {
    "slideshow": {
     "slide_type": "slide"
    }
   },
   "source": [
    "<font color=\"red\">Exercise 5:</font>\n",
    "\n",
    "- Copy your code from exercise 4\n",
    "- Create your second screen using another frame\n",
    "    - Create a button that let you navigate back to main screen when pressed\n",
    "    - Create your character image label\n",
    "- Link up your 2 frames"
   ]
  },
  {
   "cell_type": "code",
   "execution_count": 10,
   "metadata": {},
   "outputs": [
    {
     "ename": "TclError",
     "evalue": "couldn't recognize data in image file \"../smt/1.png\"",
     "output_type": "error",
     "traceback": [
      "\u001b[0;31m---------------------------------------------------------------------------\u001b[0m",
      "\u001b[0;31mTclError\u001b[0m                                  Traceback (most recent call last)",
      "Cell \u001b[0;32mIn[10], line 29\u001b[0m\n\u001b[1;32m     26\u001b[0m main_frame\u001b[39m.\u001b[39mgrid(row\u001b[39m=\u001b[39m\u001b[39m0\u001b[39m, column\u001b[39m=\u001b[39m\u001b[39m0\u001b[39m)\n\u001b[1;32m     28\u001b[0m \u001b[39m# create a photo image for tkinter\u001b[39;00m\n\u001b[0;32m---> 29\u001b[0m Logo_photo \u001b[39m=\u001b[39m tk\u001b[39m.\u001b[39;49mPhotoImage(file\u001b[39m=\u001b[39;49m\u001b[39m\"\u001b[39;49m\u001b[39m../smt/1.png\u001b[39;49m\u001b[39m\"\u001b[39;49m)\n\u001b[1;32m     31\u001b[0m \u001b[39m#put the image logo into image label\u001b[39;00m\n\u001b[1;32m     32\u001b[0m image_label \u001b[39m=\u001b[39m tk\u001b[39m.\u001b[39mLabel(master\u001b[39m=\u001b[39mmain_frame, image\u001b[39m=\u001b[39mLogo_photo)\n",
      "File \u001b[0;32m/usr/lib/python3.11/tkinter/__init__.py:4130\u001b[0m, in \u001b[0;36mPhotoImage.__init__\u001b[0;34m(self, name, cnf, master, **kw)\u001b[0m\n\u001b[1;32m   4125\u001b[0m \u001b[39mdef\u001b[39;00m \u001b[39m__init__\u001b[39m(\u001b[39mself\u001b[39m, name\u001b[39m=\u001b[39m\u001b[39mNone\u001b[39;00m, cnf\u001b[39m=\u001b[39m{}, master\u001b[39m=\u001b[39m\u001b[39mNone\u001b[39;00m, \u001b[39m*\u001b[39m\u001b[39m*\u001b[39mkw):\n\u001b[1;32m   4126\u001b[0m \u001b[39m    \u001b[39m\u001b[39m\"\"\"Create an image with NAME.\u001b[39;00m\n\u001b[1;32m   4127\u001b[0m \n\u001b[1;32m   4128\u001b[0m \u001b[39m    Valid resource names: data, format, file, gamma, height, palette,\u001b[39;00m\n\u001b[1;32m   4129\u001b[0m \u001b[39m    width.\"\"\"\u001b[39;00m\n\u001b[0;32m-> 4130\u001b[0m     Image\u001b[39m.\u001b[39;49m\u001b[39m__init__\u001b[39;49m(\u001b[39mself\u001b[39;49m, \u001b[39m'\u001b[39;49m\u001b[39mphoto\u001b[39;49m\u001b[39m'\u001b[39;49m, name, cnf, master, \u001b[39m*\u001b[39;49m\u001b[39m*\u001b[39;49mkw)\n",
      "File \u001b[0;32m/usr/lib/python3.11/tkinter/__init__.py:4075\u001b[0m, in \u001b[0;36mImage.__init__\u001b[0;34m(self, imgtype, name, cnf, master, **kw)\u001b[0m\n\u001b[1;32m   4073\u001b[0m         v \u001b[39m=\u001b[39m \u001b[39mself\u001b[39m\u001b[39m.\u001b[39m_register(v)\n\u001b[1;32m   4074\u001b[0m     options \u001b[39m=\u001b[39m options \u001b[39m+\u001b[39m (\u001b[39m'\u001b[39m\u001b[39m-\u001b[39m\u001b[39m'\u001b[39m\u001b[39m+\u001b[39mk, v)\n\u001b[0;32m-> 4075\u001b[0m \u001b[39mself\u001b[39;49m\u001b[39m.\u001b[39;49mtk\u001b[39m.\u001b[39;49mcall((\u001b[39m'\u001b[39;49m\u001b[39mimage\u001b[39;49m\u001b[39m'\u001b[39;49m, \u001b[39m'\u001b[39;49m\u001b[39mcreate\u001b[39;49m\u001b[39m'\u001b[39;49m, imgtype, name,) \u001b[39m+\u001b[39;49m options)\n\u001b[1;32m   4076\u001b[0m \u001b[39mself\u001b[39m\u001b[39m.\u001b[39mname \u001b[39m=\u001b[39m name\n",
      "\u001b[0;31mTclError\u001b[0m: couldn't recognize data in image file \"../smt/1.png\""
     ]
    }
   ],
   "source": [
    "# import tkinter as library\n",
    "import tkinter as tk\n",
    "\n",
    "# Add Pillow import at the beginning of your code for adding image\n",
    "from PIL import Image, ImageTk\n",
    "\n",
    "# Add a function to switch the frame\n",
    "def switch_frame(grid_frame, ungrid_frame):\n",
    "    grid_frame.grid(row=0, column=0)\n",
    "    ungrid_frame.grid_forget()\n",
    "\n",
    "# Add wrapper functions for the buttons\n",
    "def start_game():\n",
    "    switch_frame(game_combat_frame, main_frame)\n",
    "\n",
    "def return_to_main():\n",
    "    switch_frame(main_frame, game_combat_frame)    \n",
    "    \n",
    "# create the window function\n",
    "window = tk.Tk()\n",
    "\n",
    "# Create a frame at row 0 and column 0 for main menu\n",
    "main_frame = tk.Frame(\n",
    "        master=window)\n",
    "# frame position in row and column\n",
    "main_frame.grid(row=0, column=0)\n",
    "\n",
    "# create a photo image for tkinter\n",
    "Logo_photo = tk.PhotoImage(file=\"../smt/1.png\")\n",
    "\n",
    "#put the image logo into image label\n",
    "image_label = tk.Label(master=main_frame, image=Logo_photo)\n",
    "\n",
    "# pack will put the widgets into window\n",
    "image_label.pack()\n",
    "\n",
    "# create game label\n",
    "label = tk.Label(\n",
    "    master = main_frame,\n",
    "    text=\"A RPG Game\",\n",
    "    font = (\"Calibri\",50) # Change the font size\n",
    ")\n",
    "# pack will put the widgets into window\n",
    "label.pack()\n",
    "\n",
    "#create a button for start game, add it into the main_frame\n",
    "button = tk.Button(\n",
    "    master = main_frame,\n",
    "   # command=lambda: switch_frame(game_combat_frame,main_frame), # using lambda\n",
    "    command = start_game, # using a wrapper function\n",
    "    text=\"Start Game\",\n",
    "    font = (\"Calibri\",30) # Change the font size\n",
    ")\n",
    "button.pack()\n",
    "\n",
    "# for second screen\n",
    "#----------------------------------------------------------------------\n",
    "# Create a frame at row 0 and column 0 for game_menu, \n",
    "# note the 2 frames should be the same position and size so that they will cover each other\n",
    "game_combat_frame = tk.Frame(\n",
    "                    master=window)\n",
    "\n",
    "# we do not put the frame into layout, the start game button will do it\n",
    "#game_combat_frame.grid(row=0, column=0)\n",
    "\n",
    "# Assuming \"character_maleAdventurer.png\" is in the same directory as your Python script\n",
    "# create a character photo image for tkinter\n",
    "photo = tk.PhotoImage(file=\"../smt/1.png\")\n",
    "\n",
    "# put the photo image into the label\n",
    "character_photo = tk.Label(master=game_combat_frame, image=photo)\n",
    "character_photo.pack()\n",
    "\n",
    "# create a button for back to main menu, trigger the switch frame function once this button is pressed\n",
    "return_main_button = tk.Button(\n",
    "    master = game_combat_frame,\n",
    "    #command=lambda: switch_frame(main_frame,game_combat_frame),# trigger switch_frame function once button pressed\n",
    "    command=return_to_main, # using a wrapper function\n",
    "    text=\"Main Menu\",\n",
    "    font = (\"Calibri\",30) # Change the font size\n",
    ")\n",
    "return_main_button.pack()\n",
    "#-----------------------------------------------------------------------\n",
    "\n",
    "# window mainloop have to be called once at the end\n",
    "# main loop process event\n",
    "window.mainloop()"
   ]
  },
  {
   "cell_type": "markdown",
   "metadata": {
    "slideshow": {
     "slide_type": "slide"
    }
   },
   "source": [
    "## Displaying output to a label\n",
    "\n",
    "We have made use of label to display text and images\n",
    "\n",
    "Next is an example to update output to a label."
   ]
  },
  {
   "cell_type": "code",
   "execution_count": 8,
   "metadata": {},
   "outputs": [],
   "source": [
    "# import tkinter as library\n",
    "import tkinter as tk\n",
    "\n",
    "# example function for updating text\n",
    "def update_output():    \n",
    "    text = label.cget(\"text\")\n",
    "    label.config(text=text+\"\\n new update\")\n",
    "    \n",
    "# create window\n",
    "window = tk.Tk()\n",
    "\n",
    "frame = tk.Frame(master=window)\n",
    "frame.grid(row=0, column=0)\n",
    "\n",
    "# create label\n",
    "label = tk.Label(\n",
    "    master = frame,\n",
    "    text= \"Game Status!\"\n",
    ")\n",
    "# pack will put the widgets into window\n",
    "label.pack()\n",
    "\n",
    "# create a button to update label\n",
    "button = tk.Button(\n",
    "    master = frame,\n",
    "    command=update_output, # update_output() will be called once button clicked\n",
    "    text=\"New update\",\n",
    "    font = (\"Calibri\",30) # Change the font size\n",
    ")\n",
    "button.pack()\n",
    "\n",
    "# window mainloop have to be called once at the end\n",
    "# main loop process event\n",
    "window.mainloop()"
   ]
  },
  {
   "cell_type": "markdown",
   "metadata": {
    "slideshow": {
     "slide_type": "slide"
    }
   },
   "source": [
    "<font color=\"red\">Exercise 6:</font>\n",
    "\n",
    "- Copy your code from exercise 5\n",
    "- Create an attack button in screen 2\n",
    "- Create a message log label that print the game status\n",
    "- When the attack button is pressed, let player do attack on enemy and print out the status"
   ]
  },
  {
   "cell_type": "code",
   "execution_count": 12,
   "metadata": {},
   "outputs": [],
   "source": [
    "# import tkinter as library\n",
    "import tkinter as tk\n",
    "# Add Pillow import at the beginning of your code for adding image\n",
    "from PIL import Image, ImageTk\n",
    "\n",
    "# using global variable, could you convert to classes?\n",
    "player_hp = 100\n",
    "player_ap = 10\n",
    "\n",
    "enemy_hp = 100\n",
    "enemy_ap = 10\n",
    "\n",
    "# Add a function to switch the frame\n",
    "def switch_frame(grid_frame, ungrid_frame):\n",
    "    grid_frame.grid(row=0, column=0)\n",
    "    ungrid_frame.grid_forget()\n",
    "    \n",
    "# Add wrapper functions for the buttons\n",
    "def start_game():\n",
    "    switch_frame(game_combat_frame, main_frame)\n",
    "\n",
    "def return_to_main():\n",
    "    switch_frame(main_frame, game_combat_frame)        \n",
    "\n",
    "# Add a function to do player attack \n",
    "def player_attack():\n",
    "    global enemy_hp\n",
    "    global player_ap\n",
    "    enemy_hp = enemy_hp - player_ap\n",
    "    \n",
    "    text = message_log_label.cget(\"text\")\n",
    "    \n",
    "    if enemy_hp > 0:\n",
    "        message_log_label.config(text= text+\"\\nPlayer attack \\n enemy health:\"+str(enemy_hp))\n",
    "    else:\n",
    "        message_log_label.config(text=\"Player win\")\n",
    "            \n",
    "# create window \n",
    "window = tk.Tk()\n",
    "\n",
    "# Create a frame at row 0 and column 0 for main menu\n",
    "main_frame = tk.Frame(\n",
    "        master=window,\n",
    "        relief=tk.RAISED,\n",
    "        borderwidth=1)\n",
    "# frame position in row and column\n",
    "main_frame.grid(row=0, column=0)\n",
    "\n",
    "# create a photo image for tkinter\n",
    "Logo_photo = tk.PhotoImage(file=\"character_maleAdventurer.png\")\n",
    "\n",
    "#put the image logo into image label\n",
    "image_label = tk.Label(master=main_frame, image=Logo_photo)\n",
    "\n",
    "# pack will put the widgets into window\n",
    "image_label.pack()\n",
    "\n",
    "# create label with different parameters\n",
    "label = tk.Label(\n",
    "    master = main_frame,\n",
    "    text=\"A RPG Game\",\n",
    "    font = (\"Calibri\",50) # Change the font size\n",
    ")\n",
    "# pack will put the widgets into window\n",
    "label.pack()\n",
    "\n",
    "#create a button for start game, add it into the main_frame\n",
    "button = tk.Button(\n",
    "    master = main_frame,\n",
    "   # command=lambda: switch_frame(game_combat_frame,main_frame), # using lambda\n",
    "    command = start_game, # using a wrapper function\n",
    "    text=\"Start Game\",\n",
    "    font = (\"Calibri\",30) # Change the font size\n",
    ")\n",
    "button.pack()\n",
    "\n",
    "# for second screen\n",
    "#----------------------------------------------------------------------\n",
    "# Create a frame at row 0 and column 0 for game_menu, \n",
    "# note the 2 frames should be the same position and size so that they will cover each other\n",
    "game_combat_frame = tk.Frame(\n",
    "                    master=window)\n",
    "\n",
    "# we do not put the frame into layout, the start game function will do it\n",
    "#game_combat_frame.grid(row=0, column=0)\n",
    "\n",
    "# Assuming \"character_maleAdventurer.png\" is in the same directory as your Python script\n",
    "# create an photo image for tkinter\n",
    "photo = tk.PhotoImage(file=\"character_maleAdventurer.png\")\n",
    "\n",
    "# put the photo image into the label\n",
    "character_photo = tk.Label(master=game_combat_frame, image=photo)\n",
    "character_photo.pack()\n",
    "\n",
    "\n",
    "# create message log (label) for displaying game status\n",
    "message_log_label = tk.Label(\n",
    "    master = game_combat_frame,\n",
    "    text= \"Game Status!\",\n",
    "    font = (\"Calibri\",10),\n",
    "    width = 100,\n",
    "    height = 20,\n",
    "    bg=\"white\"\n",
    ")\n",
    "# pack will put the widgets into window\n",
    "message_log_label.pack()\n",
    "\n",
    "# create a button for attack action, trigger the player_attack() function once this button is pressed\n",
    "attack_button = tk.Button(\n",
    "    master = game_combat_frame,\n",
    "    command= player_attack, # player_attack() will be called once button clicked\n",
    "    text=\"Attack\",\n",
    "    font = (\"Calibri\",30) # Change the font size\n",
    ")\n",
    "attack_button.pack()\n",
    "\n",
    "# create a button for back to main menu, trigger the switch frame function once this button is pressed\n",
    "return_main_button = tk.Button(\n",
    "    master = game_combat_frame,\n",
    "    #command=lambda: switch_frame(main_frame,game_combat_frame),# trigger switch_frame function once button pressed\n",
    "    command=return_to_main, # using a wrapper function\n",
    "    text=\"Main Menu\",\n",
    "    font = (\"Calibri\",30) # Change the font size\n",
    ")\n",
    "return_main_button.pack()\n",
    "\n",
    "\n",
    "#-----------------------------------------------------------------------\n",
    "\n",
    "# window mainloop have to be called once at the end\n",
    "# main loop process event\n",
    "window.mainloop()"
   ]
  },
  {
   "cell_type": "markdown",
   "metadata": {},
   "source": [
    "<font color=\"red\">Exercise:</font>\n",
    "\n",
    "There are still many missing features and such as:\n",
    "- Which GUI layout should you use?\n",
    "- What widgets to use? Are the current widgets used suitable?\n",
    "- The codes are not in functions and classes\n",
    "\n",
    "\n"
   ]
  },
  {
   "cell_type": "markdown",
   "metadata": {
    "slideshow": {
     "slide_type": "slide"
    }
   },
   "source": [
    "## Resources:\n",
    "### [This is the standard tutorial reference by the inventor of Python](https://docs.python.org/3/tutorial/)\n",
    "### [Python Crash Course (eBook)](https://learning.oreilly.com/library/view/python-crash-course/9781492071266/?sso_link=yes&sso_link_from=TemasekPolytechnic)\n",
    "### [Python for Everybody - Full University Python Course - YouTube](https://youtu.be/8DvywoWv6fI)\n",
    "### [W3School - Python tutorial](https://www.w3schools.com/python/default.asp)\n",
    "### [RealPython.com - Tkinter](https://realpython.com/python-gui-tkinter/)\n",
    "### [Tkdocs - Tkinter API](https://tkdocs.com/pyref/)"
   ]
  },
  {
   "cell_type": "markdown",
   "metadata": {
    "slideshow": {
     "slide_type": "slide"
    }
   },
   "source": [
    "### <font color=red>to save the notebook, go file-->Save and Checkpoint\n",
    "### <font color=red>to quit, go file-->Close and Halt"
   ]
  }
 ],
 "metadata": {
  "celltoolbar": "Slideshow",
  "kernelspec": {
   "display_name": "Python 3 (ipykernel)",
   "language": "python",
   "name": "python3"
  },
  "language_info": {
   "codemirror_mode": {
    "name": "ipython",
    "version": 3
   },
   "file_extension": ".py",
   "mimetype": "text/x-python",
   "name": "python",
   "nbconvert_exporter": "python",
   "pygments_lexer": "ipython3",
   "version": "3.11.3"
  }
 },
 "nbformat": 4,
 "nbformat_minor": 2
}
